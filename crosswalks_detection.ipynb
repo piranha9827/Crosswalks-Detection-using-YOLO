{
  "cells": [
    {
      "cell_type": "markdown",
      "metadata": {
        "id": "zd2mkkZxkyjs"
      },
      "source": [
        "##Connect Google Drive"
      ]
    },
    {
      "cell_type": "code",
      "execution_count": null,
      "metadata": {
        "id": "FXPDgwnjkY0h",
        "colab": {
          "base_uri": "https://localhost:8080/"
        },
        "outputId": "91c305c4-2037-4c4e-8179-284c825a4be8"
      },
      "outputs": [
        {
          "output_type": "stream",
          "name": "stdout",
          "text": [
            "Mounted at /content/gdrive\n",
            "Connecting to Drive....\n",
            "/content/gdrive/MyDrive/Crosswalks_Detection\n",
            "Done!\n"
          ]
        }
      ],
      "source": [
        "from google.colab import drive\n",
        "\n",
        "folder = 'Crosswalks_Detection' #@param{type:\"string\"}\n",
        "\n",
        "drive.mount('/content/gdrive', force_remount=True)\n",
        "print('Connecting to Drive....')\n",
        "\n",
        "%cd /content/gdrive/MyDrive/$folder/\n",
        "print('Done!')"
      ]
    },
    {
      "cell_type": "markdown",
      "metadata": {
        "id": "onAWQ147lAf7"
      },
      "source": [
        "##Install Yolo"
      ]
    },
    {
      "cell_type": "code",
      "execution_count": null,
      "metadata": {
        "id": "RY6uq6dSlFMq",
        "colab": {
          "base_uri": "https://localhost:8080/"
        },
        "outputId": "07405454-218e-48f7-b571-bee582f0df03"
      },
      "outputs": [
        {
          "output_type": "stream",
          "name": "stdout",
          "text": [
            "Ultralytics YOLOv8.0.228 🚀 Python-3.10.12 torch-2.1.0+cu121 CUDA:0 (Tesla T4, 15102MiB)\n",
            "Setup complete ✅ (2 CPUs, 12.7 GB RAM, 26.3/78.2 GB disk)\n"
          ]
        }
      ],
      "source": [
        "%pip install ultralytics\n",
        "import ultralytics\n",
        "ultralytics.checks()"
      ]
    },
    {
      "cell_type": "markdown",
      "metadata": {
        "id": "7ZSq6TNJNj7R"
      },
      "source": [
        "##Training"
      ]
    },
    {
      "cell_type": "code",
      "execution_count": null,
      "metadata": {
        "id": "2KbePJy9TkBZ"
      },
      "outputs": [],
      "source": [
        "from ultralytics import YOLO\n",
        "\n",
        "epochs = 300 #@param {type:\"slider\", min:100, max:1000, step:10}\n",
        "training_option = \"Train new CNN\" #@param [\"Train new CNN\", \"Resume an interrupted Training\"]\n",
        "weight = 'yolov8m.pt' #@param[\"yolov8n.pt\",\"yolov8s.pt\",\"yolov8m.pt\",\"yolov8l.pt\", \"yolov8x\"]\n",
        "batch = 32 #@param {type:\"slider\", min:1, max:64, step:1}\n",
        "\n",
        "model = YOLO(weight)\n",
        "data =  \"/content/gdrive/MyDrive/\"+folder+\"/training/training_dataset/data.yaml\"\n",
        "project = \"/content/gdrive/MyDrive/\"+folder+\"/training/training_results/\"\n",
        "model_folder = \"/content/gdrive/MyDrive/\"+folder+\"/training/training_results/train/weights/last.pt\""
      ]
    },
    {
      "cell_type": "code",
      "source": [
        "print(type(model))"
      ],
      "metadata": {
        "id": "fAknxsowEQvI",
        "colab": {
          "base_uri": "https://localhost:8080/"
        },
        "outputId": "80cfff84-f7ec-46bf-83e4-837ec28bee05"
      },
      "execution_count": null,
      "outputs": [
        {
          "output_type": "stream",
          "name": "stdout",
          "text": [
            "<class 'ultralytics.models.yolo.model.YOLO'>\n"
          ]
        }
      ]
    },
    {
      "cell_type": "code",
      "execution_count": null,
      "metadata": {
        "id": "nn7uK3k7lOzh"
      },
      "outputs": [],
      "source": [
        "if training_option == 'Train new CNN':\n",
        "  model.train(data=data, epochs=epochs, imgsz=512, batch=batch, cache=True, patience=50, project=project)\n",
        "else:\n",
        "  model.train(data=data, epochs=epochs, imgsz=512, batch=batch, cache=True, patience=50, project=project, resume=True, model=model_folder)"
      ]
    },
    {
      "cell_type": "markdown",
      "metadata": {
        "id": "cyESzLNjNotL"
      },
      "source": [
        "## Metrics"
      ]
    },
    {
      "cell_type": "code",
      "execution_count": null,
      "metadata": {
        "id": "EnxYAYt7Nt2S",
        "colab": {
          "base_uri": "https://localhost:8080/",
          "height": 194
        },
        "outputId": "bb2884d5-6aa8-42b5-b541-c559a9c6f0bd"
      },
      "outputs": [
        {
          "output_type": "error",
          "ename": "AttributeError",
          "evalue": "ignored",
          "traceback": [
            "\u001b[0;31m---------------------------------------------------------------------------\u001b[0m",
            "\u001b[0;31mAttributeError\u001b[0m                            Traceback (most recent call last)",
            "\u001b[0;32m<ipython-input-6-6f76c47e8dfc>\u001b[0m in \u001b[0;36m<cell line: 2>\u001b[0;34m()\u001b[0m\n\u001b[1;32m      1\u001b[0m \u001b[0mdata_test\u001b[0m \u001b[0;34m=\u001b[0m \u001b[0;34m\"/content/gdrive/MyDrive/\"\u001b[0m\u001b[0;34m+\u001b[0m\u001b[0mfolder\u001b[0m\u001b[0;34m+\u001b[0m\u001b[0;34m\"/test/test_dataset/data.yaml\"\u001b[0m\u001b[0;34m\u001b[0m\u001b[0;34m\u001b[0m\u001b[0m\n\u001b[0;32m----> 2\u001b[0;31m \u001b[0mmetrics\u001b[0m \u001b[0;34m=\u001b[0m \u001b[0mmodel\u001b[0m\u001b[0;34m.\u001b[0m\u001b[0mval\u001b[0m\u001b[0;34m(\u001b[0m\u001b[0mdata\u001b[0m\u001b[0;34m=\u001b[0m\u001b[0mdata_test\u001b[0m\u001b[0;34m)\u001b[0m\u001b[0;34m\u001b[0m\u001b[0;34m\u001b[0m\u001b[0m\n\u001b[0m",
            "\u001b[0;31mAttributeError\u001b[0m: 'str' object has no attribute 'val'"
          ]
        }
      ],
      "source": [
        "data_test = \"/content/gdrive/MyDrive/\"+folder+\"/test/test_dataset/data.yaml\"\n",
        "metrics = model.val(data=data_test)"
      ]
    },
    {
      "cell_type": "code",
      "execution_count": null,
      "metadata": {
        "id": "38-N0MWLTYyz"
      },
      "outputs": [],
      "source": [
        "#Printing result to confront\n",
        "from PIL import Image\n",
        "\n",
        "precision_training = '/content/gdrive/MyDrive/'+folder+'/training/training_results/train/F1_curve.png'\n",
        "precision_test = '/content/gdrive/MyDrive/'+folder+'/training/training_results/val/F1_curve.png'\n",
        "\n",
        "im1 = Image.open(precision_training)\n",
        "im2 = Image.open(precision_test)\n",
        "\n",
        "print(\"F1 Training\")\n",
        "display(im1)\n",
        "print(\"F1 Test\")\n",
        "display(im2)"
      ]
    },
    {
      "cell_type": "markdown",
      "metadata": {
        "id": "Ryt168gZZ0F6"
      },
      "source": [
        "##Detection"
      ]
    },
    {
      "cell_type": "code",
      "execution_count": null,
      "metadata": {
        "id": "N8zpVubmH90v"
      },
      "outputs": [],
      "source": [
        "import glob\n",
        "import os\n",
        "import shutil\n",
        "import numpy as np\n",
        "import cv2 as cv\n",
        "from google.colab.patches import cv2_imshow\n",
        "from matplotlib import pyplot as plt\n",
        "\n",
        "#Bounding Box Merge Algorithm\n",
        "def merge_bounding_boxes(bounding_boxes,image_width,image_height):\n",
        "  [x,y] = [image_height,image_width]\n",
        "  [w,h] = [0,0]\n",
        "  for i in range(0,bounding_boxes.shape[0]):\n",
        "    if(bounding_boxes.ndim == 1):\n",
        "      center_x_1 = int(bounding_boxes[0]*image_width)\n",
        "      center_y_1 = int(bounding_boxes[1]*image_height)\n",
        "      width_1 = int(bounding_boxes[2]*image_width)\n",
        "      height_1 = int(bounding_boxes[3]*image_height)\n",
        "      x = int(center_x_1 - (width_1/2))\n",
        "      y = int(center_y_1 - (height_1/2))\n",
        "      w = int(center_x_1 + (width_1/2))\n",
        "      h = int(center_y_1 + (height_1/2))\n",
        "    else:\n",
        "      center_x_1 = int(bounding_boxes[i,0]*image_width)\n",
        "      center_y_1 = int(bounding_boxes[i,1]*image_height)\n",
        "      width_1 = int(bounding_boxes[i,2]*image_width)\n",
        "      height_1 = int(bounding_boxes[i,3]*image_height)\n",
        "      vert_x = int(center_x_1 - (width_1/2))\n",
        "      vert_y = int(center_y_1 - (height_1/2))\n",
        "      vert_w = int(center_x_1 + (width_1/2))\n",
        "      vert_h = int(center_y_1 + (height_1/2))\n",
        "      if(vert_x < x):\n",
        "        x = vert_x\n",
        "      if(vert_y < y):\n",
        "        y = vert_y\n",
        "      if(vert_w > w):\n",
        "        w = vert_w\n",
        "      if(vert_h > h):\n",
        "        h = vert_h\n",
        "    return np.array([x,y,w,h])"
      ]
    },
    {
      "cell_type": "code",
      "execution_count": null,
      "metadata": {
        "id": "62zCqZZeZ4bC"
      },
      "outputs": [],
      "source": [
        "!yolo task=detect mode=predict model=\"/content/gdrive/MyDrive/$folder/training/training_results/train/weights/best.pt\" source=\"/content/gdrive/MyDrive/$folder/detection/dataset/\" imgsz=512 save=False save_txt=True save_conf=True"
      ]
    },
    {
      "cell_type": "code",
      "execution_count": null,
      "metadata": {
        "id": "aoBgpMuXKZgc"
      },
      "outputs": [],
      "source": [
        "path = '/content/gdrive/MyDrive/'+folder+'/runs/detect/predict/labels/'\n",
        "img_path = '/content/gdrive/MyDrive/'+folder+'/detection/dataset/'\n",
        "save_path = '/content/gdrive/MyDrive/'+folder+'/runs/detect/predict/'\n",
        "\n",
        "for fname in os.listdir(save_path):\n",
        "  if fname.endswith('.jpg'):\n",
        "    (\"The path already contains images, skipping this part.\")\n",
        "    break\n",
        "else:\n",
        "  from distutils.dir_util import copy_tree\n",
        "  copy_tree(img_path, save_path)\n",
        "  print(\"Path Copied!\")"
      ]
    },
    {
      "cell_type": "code",
      "execution_count": null,
      "metadata": {
        "id": "5qdEnhM7Cu-Q"
      },
      "outputs": [],
      "source": [
        "for filename in glob.glob(os.path.join(path, '*.txt')):\n",
        "  with open(os.path.join(os.getcwd(),filename), 'r') as f:\n",
        "    bounding_boxes = None\n",
        "    confidences = None\n",
        "    image_name = os.path.basename(filename).replace('txt', 'jpg')\n",
        "    for line in f:\n",
        "      cl, label_x, label_y, label_w, label_h, conf = line.split(' ')\n",
        "      b = float(conf)\n",
        "      a = np.array([float(label_x),float(label_y),float(label_w),float(label_h)])\n",
        "      bounding_boxes = (np.vstack((bounding_boxes, a)) if (bounding_boxes is not None) else a)\n",
        "      confidences = (np.vstack((confidences, b)) if (confidences is not None) else b)\n",
        "    #Image Elaboration\n",
        "    image = cv.imread(img_path+image_name)\n",
        "    [image_height, image_width, levels] = image.shape\n",
        "    conf_max = np.amax(confidences)\n",
        "    [x,y,w,h] = merge_bounding_boxes(bounding_boxes, image_width, image_height)\n",
        "    #Create Rect\n",
        "    cv.rectangle(image, (x,y), (w,h), (0,0,255), 4)\n",
        "    cv.putText(image, 'crosswalk ' + \"%.2f\" % conf_max, (x, y-10), cv.FONT_HERSHEY_SIMPLEX, 0.7, (0,0,255), 2)\n",
        "    #Saving Image\n",
        "    print('Saving ' + image_name)\n",
        "    cv.imwrite(save_path+image_name, image)"
      ]
    },
    {
      "cell_type": "markdown",
      "metadata": {
        "id": "kUKRyqySLD1V"
      },
      "source": [
        "##Intersection Over Union (IoU)"
      ]
    },
    {
      "cell_type": "code",
      "execution_count": null,
      "metadata": {
        "colab": {
          "base_uri": "https://localhost:8080/"
        },
        "id": "afb7v7xELHPE",
        "outputId": "6db07246-80f6-4b50-ca66-79980bc339e2"
      },
      "outputs": [
        {
          "name": "stdout",
          "output_type": "stream",
          "text": [
            "IoU: 0.63\n"
          ]
        }
      ],
      "source": [
        "#INTERESCTION OVER UNION (IOU)\n",
        "def compute_iou(box1, box2):\n",
        "  #DATA: box1 = [L1, T1, R1, B1], box2 = [L2, T2, R2, B2]\n",
        "  L_inter = max(box1[0], box2[0])\n",
        "  T_inter = max(box1[1], box2[1])\n",
        "  R_inter = min(box1[2], box2[2])\n",
        "  B_inter = min(box1[3], box2[3])\n",
        "  if(R_inter < L_inter) or (B_inter < T_inter):\n",
        "    return 0\n",
        "  A_inter = (R_inter - L_inter) * (B_inter - T_inter)\n",
        "  A1 = (box1[2] - box1[0]) * (box1[3] - box1[1])\n",
        "  A2 = (box2[2] - box2[0]) * (box2[3] - box2[1])\n",
        "  A_union = A1 + A2 - A_inter\n",
        "  iou = A_inter/A_union\n",
        "  return iou\n",
        "\n",
        "#READING DATA AND CALCULATING IOU\n",
        "dataset_path = '/content/gdrive/MyDrive/'+folder+'/iou/dataset/'\n",
        "detection_path = '/content/gdrive/MyDrive/'+folder+'/runs/detect/predict/labels/'\n",
        "\n",
        "iou_array = None\n",
        "\n",
        "for filename_1 in glob.glob(os.path.join(dataset_path, '*.txt')):\n",
        "  with open(os.path.join(os.getcwd(),filename_1), 'r') as f:\n",
        "    name_1 = os.path.basename(filename_1)\n",
        "    for filename_2 in glob.glob(os.path.join(detection_path, '*.txt')):\n",
        "      name_2 = os.path.basename(filename_2)\n",
        "      with open(os.path.join(os.getcwd(),filename_2), 'r') as g:\n",
        "        if(name_1 == name_2):\n",
        "          image_name = os.path.basename(filename_2).replace('txt', 'jpg')\n",
        "          bounding_boxes_1 = None\n",
        "          bounding_boxes_2 = None\n",
        "          for line in f:\n",
        "            cl_1, label_x_1, label_y_1, label_w_1, label_h_1 = line.split(' ')\n",
        "            a_1 = np.array([float(label_x_1),float(label_y_1),float(label_w_1),float(label_h_1)])\n",
        "            bounding_boxes_1 = (np.vstack((bounding_boxes_1, a_1)) if (bounding_boxes_1 is not None) else a_1)\n",
        "          for line in g:\n",
        "            cl_2, label_x_2, label_y_2, label_w_2, label_h_2, conf_2 = line.split(' ')\n",
        "            a_2 = np.array([float(label_x_2),float(label_y_2),float(label_w_2),float(label_h_2)])\n",
        "            bounding_boxes_2 = (np.vstack((bounding_boxes_2, a_2)) if (bounding_boxes_2 is not None) else a_2)\n",
        "          image = cv.imread(dataset_path+image_name)\n",
        "          [image_height, image_width, levels] = image.shape\n",
        "          merge_box_1 = merge_bounding_boxes(bounding_boxes_1, image_width, image_height)\n",
        "          merge_box_2 = merge_bounding_boxes(bounding_boxes_2, image_width, image_height)\n",
        "          iou = compute_iou(merge_box_1, merge_box_2)\n",
        "          iou_array = (np.vstack((iou_array, iou)) if (iou_array is not None) else iou)\n",
        "        else:\n",
        "          continue\n",
        "print('IoU: ' + str(iou_array.mean())[:4])"
      ]
    },
    {
      "cell_type": "markdown",
      "metadata": {
        "id": "hKvv_Q_LNiaF"
      },
      "source": [
        "##Video Detection"
      ]
    },
    {
      "cell_type": "code",
      "execution_count": null,
      "metadata": {
        "id": "H6SbK_OENlfF"
      },
      "outputs": [],
      "source": [
        "video = 'video.mp4' #@param {type:\"string\"}\n",
        "!yolo task=detect mode=predict model=\"/content/gdrive/MyDrive/$folder/training/training_results/train/weights/best.pt\" source=\"/content/gdrive/MyDrive/$folder/detection/video/$video\" imgsz=512 save_txt=True save_conf=True project=\"video_results/\" save=False"
      ]
    },
    {
      "cell_type": "code",
      "execution_count": null,
      "metadata": {
        "id": "jSpyabebMV_Y"
      },
      "outputs": [],
      "source": [
        "#CREATING INFERENCE ON VIDEO\n",
        "import glob\n",
        "import os\n",
        "import shutil\n",
        "import numpy as np\n",
        "import cv2 as cv\n",
        "from google.colab.patches import cv2_imshow\n",
        "from matplotlib import pyplot as plt\n",
        "\n",
        "path = '/content/gdrive/MyDrive/'+folder+'/video_results/predict/labels/'\n",
        "video_path = '/content/gdrive/MyDrive/'+folder+'/detection/video/'\n",
        "save_path = '/content/gdrive/MyDrive/'+folder+'/video_results/'\n",
        "frames_path = '/content/gdrive/MyDrive/'+folder+'/video_results/predict/frames/'\n",
        "video_name = video.replace('.mp4', '')\n",
        "\n",
        "print('Reading Video: '+video_path+video)\n",
        "v = cv.VideoCapture(video_path+video)\n",
        "frame_count = int(v.get(cv.CAP_PROP_FRAME_COUNT))\n",
        "fps = v.get(cv.CAP_PROP_FPS)\n",
        "video_w = int(v.get(cv.CAP_PROP_FRAME_WIDTH))\n",
        "video_h = int(v.get(cv.CAP_PROP_FRAME_HEIGHT))\n",
        "print('Video Info' + '  FPS: '+str(int(fps))+' Width: '+str(video_w)+' Height: '+str(video_h))\n",
        "\n",
        "frames = None\n",
        "for filename in glob.glob(os.path.join(path, '*.txt')):\n",
        "  with open(os.path.join(os.getcwd(),filename), 'r') as f:\n",
        "    bounding_boxes = None\n",
        "    confidences = None\n",
        "    #Saves the Frame number in an array\n",
        "    frame_num = int(os.path.basename(filename).replace('.txt', '').replace(video_name +'_',''))\n",
        "    frames = (np.vstack((frames, frame_num)) if (frames is not None) else frame_num)\n",
        "    for line in f:\n",
        "      cl, label_x, label_y, label_w, label_h, conf = line.split(' ')\n",
        "      b = float(conf)\n",
        "      a = np.array([float(label_x),float(label_y),float(label_w),float(label_h)])\n",
        "      bounding_boxes = (np.vstack((bounding_boxes, a)) if (bounding_boxes is not None) else a)\n",
        "      confidences = (np.vstack((confidences, b)) if (confidences is not None) else b)\n",
        "    conf_max = np.amax(confidences)\n",
        "    #Get Frames from Video\n",
        "    v.set(cv.CAP_PROP_POS_FRAMES, frame_num)\n",
        "    res, image = v.read()\n",
        "    #cv2_imshow(image)\n",
        "    image_height = video_h\n",
        "    image_width = video_w\n",
        "    [x,y,w,h] = merge_bounding_boxes(bounding_boxes, image_width, image_height)\n",
        "    cv.rectangle(image, (x,y), (w,h), (0,0,255), 4)\n",
        "    cv.putText(image, 'crosswalk ' + \"%.2f\" % conf_max, (x, y+20), cv.FONT_HERSHEY_SIMPLEX, 0.7, (0,0,255), 2)\n",
        "    if image is None:\n",
        "      continue\n",
        "    cv.imwrite(frames_path+str(frame_num)+'.jpg', image)\n",
        "v.release()\n",
        "print(\"Frame Creation Complete. Run the following code to create video and clear frames from disk.\")"
      ]
    },
    {
      "cell_type": "code",
      "execution_count": null,
      "metadata": {
        "id": "nUky9PdtRGaQ"
      },
      "outputs": [],
      "source": [
        "#SAVING NEW VIDEO INFERENCES\n",
        "cap = cv.VideoCapture(video_path+video)\n",
        "vid_writer = cv.VideoWriter(save_path+video, cv.VideoWriter_fourcc(*'mp4v'), fps, (video_w, video_h))\n",
        "frame_num = -1;\n",
        "while (cap.isOpened()):\n",
        "  frame_num +=1\n",
        "  ret, frame = cap.read()\n",
        "  if ret == True:\n",
        "    if(frame_num in frames):\n",
        "      frame = cv.imread(frames_path+str(frame_num)+'.jpg')\n",
        "    vid_writer.write(frame)\n",
        "  else:\n",
        "    break\n",
        "cap.release()\n",
        "vid_writer.release()\n",
        "\n",
        "shutil.rmtree(frames_path)\n",
        "print('Result Saved on '+save_path+video)"
      ]
    },
    {
      "cell_type": "markdown",
      "source": [
        "#Export in ONNX"
      ],
      "metadata": {
        "id": "iWpEmMVpJbgi"
      }
    },
    {
      "cell_type": "code",
      "execution_count": null,
      "metadata": {
        "id": "dewZ-dUkmIuu"
      },
      "outputs": [],
      "source": [
        "from ultralytics import YOLO\n",
        "#model = YOLO(\"/content/gdrive/MyDrive/Crosswalks_Detection/training/training_results/train/weights/best.pt\")\n",
        "#model.export(format=\"onnx\")\n",
        "!yolo export model=\"/content/gdrive/MyDrive/Crosswalks_Detection/training/training_results/train/weights/best.pt\" format=onnx"
      ]
    }
  ],
  "metadata": {
    "accelerator": "GPU",
    "colab": {
      "collapsed_sections": [
        "cyESzLNjNotL",
        "Ryt168gZZ0F6",
        "kUKRyqySLD1V",
        "hKvv_Q_LNiaF",
        "iWpEmMVpJbgi"
      ],
      "provenance": [],
      "authorship_tag": "ABX9TyMyBmbaEyZlKYqu+oDaihDb"
    },
    "gpuClass": "standard",
    "kernelspec": {
      "display_name": "Python 3",
      "name": "python3"
    },
    "language_info": {
      "name": "python"
    }
  },
  "nbformat": 4,
  "nbformat_minor": 0
}